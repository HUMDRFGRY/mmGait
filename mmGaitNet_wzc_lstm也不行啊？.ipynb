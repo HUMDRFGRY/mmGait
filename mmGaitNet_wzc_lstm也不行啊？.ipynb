{
 "cells": [
  {
   "cell_type": "code",
   "execution_count": 1,
   "id": "73792bd2",
   "metadata": {},
   "outputs": [
    {
     "name": "stderr",
     "output_type": "stream",
     "text": [
      "c:\\Users\\py\\.conda\\envs\\pytorch\\lib\\site-packages\\tqdm\\auto.py:22: TqdmWarning: IProgress not found. Please update jupyter and ipywidgets. See https://ipywidgets.readthedocs.io/en/stable/user_install.html\n",
      "  from .autonotebook import tqdm as notebook_tqdm\n"
     ]
    }
   ],
   "source": [
    "import torch \n",
    "from torch.utils import data # 获取迭代数据\n",
    "from torch.autograd import Variable # 获取变量\n",
    "import torchvision\n",
    "from torchvision import models\n",
    "import matplotlib.pyplot as plt\n",
    "import torch.optim as optim\n",
    "from torch.optim.lr_scheduler import StepLR\n",
    "import pandas as pd\n",
    "import numpy as np\n",
    "import os \n",
    "from sklearn.model_selection import train_test_split\n",
    "import copy\n",
    "import matplotlib.pyplot as plt\n",
    "import random\n",
    "import math\n",
    "import torch.nn.functional as F\n",
    "import sklearn.cluster as sc\n",
    "\n"
   ]
  },
  {
   "cell_type": "code",
   "execution_count": 5,
   "id": "fdf00d24",
   "metadata": {},
   "outputs": [
    {
     "ename": "FileNotFoundError",
     "evalue": "[WinError 3] 系统找不到指定的路径。: 'room1\\\\1\\\\free_route\\\\77Ghz_radar'",
     "output_type": "error",
     "traceback": [
      "\u001b[1;31m---------------------------------------------------------------------------\u001b[0m",
      "\u001b[1;31mFileNotFoundError\u001b[0m                         Traceback (most recent call last)",
      "Cell \u001b[1;32mIn [5], line 5\u001b[0m\n\u001b[0;32m      1\u001b[0m \u001b[39m#读入文件\u001b[39;00m\n\u001b[0;32m      2\u001b[0m \u001b[39m# file_path = r'people-gait\\room1\\1\\fixed_route\\77Ghz_radar'\u001b[39;00m\n\u001b[0;32m      3\u001b[0m \u001b[39m# file_path = r'room1\\1\\fixed_route\\77Ghz_radar'\u001b[39;00m\n\u001b[0;32m      4\u001b[0m file_path \u001b[39m=\u001b[39m \u001b[39mr\u001b[39m\u001b[39m'\u001b[39m\u001b[39mroom1\u001b[39m\u001b[39m\\\u001b[39m\u001b[39m1\u001b[39m\u001b[39m\\\u001b[39m\u001b[39mfree_route\u001b[39m\u001b[39m\\\u001b[39m\u001b[39m77Ghz_radar\u001b[39m\u001b[39m'\u001b[39m\n\u001b[1;32m----> 5\u001b[0m csv_all \u001b[39m=\u001b[39m os\u001b[39m.\u001b[39;49mlistdir(file_path)\n\u001b[0;32m      6\u001b[0m \u001b[39m#设置超参数\u001b[39;00m\n\u001b[0;32m      7\u001b[0m frame_size \u001b[39m=\u001b[39m \u001b[39m32\u001b[39m \u001b[39m#每个样本的帧大小\u001b[39;00m\n",
      "\u001b[1;31mFileNotFoundError\u001b[0m: [WinError 3] 系统找不到指定的路径。: 'room1\\\\1\\\\free_route\\\\77Ghz_radar'"
     ]
    }
   ],
   "source": [
    "#读入文件\n",
    "# file_path = r'people-gait\\room1\\1\\fixed_route\\77Ghz_radar'\n",
    "# file_path = r'room1\\1\\fixed_route\\77Ghz_radar'\n",
    "file_path = r'room1\\1\\free_route\\77Ghz_radar'\n",
    "csv_all = os.listdir(file_path)\n",
    "#设置超参数\n",
    "frame_size = 32 #每个样本的帧大小\n",
    "frame_stride = 30 #滑动窗口步长\n",
    "batch_size = 32 \n",
    "people_count = len(csv_all)  #志愿者个数\n",
    "# people_count = 10\n",
    "points_frame = 64\n",
    "print(people_count)"
   ]
  },
  {
   "cell_type": "code",
   "execution_count": 6,
   "id": "37ac609f",
   "metadata": {},
   "outputs": [],
   "source": [
    "'''\n",
    "数据预处理\n",
    "1.DBSCAN聚类算法\n",
    "2.匈牙利算法解决步态数据追踪的问题\n",
    "'''\n",
    "\n",
    "\n",
    "# 计算两个点之间的欧式距离，参数为两个元组\n",
    "def dist(t1, t2):\n",
    "    dis = math.sqrt( (np.power((t1[0]-t2[0]),2) + np.power((t1[1]-t2[1]),2) + np.power((t1[2]-t2[2]),2)) )\n",
    "    return dis\n",
    "\n",
    "def dist2(t1,t2):\n",
    "    return abs(t1[0]-t2[0]) < 0.75 and abs(t1[1]-t2[1]) < 0.75 and abs(t1[2]-t2[2]) < 1\n",
    "\n",
    "def dbscan(Data, Eps, MinPts):\n",
    "    num = len(Data)  # 点的个数\n",
    "    # print(\"点的个数：\"+str(num))\n",
    "    unvisited = [i for i in range(num)]  # 没有访问到的点的列表\n",
    "    # print(unvisited)\n",
    "    visited = []  # 已经访问的点的列表\n",
    "    C = [-1 for i in range(num)]\n",
    "    # C为输出结果，默认是一个长度为num的值全为-1的列表\n",
    "    # 用k来标记不同的簇，k = -1表示噪声点\n",
    "    k = -1\n",
    "    # 如果还有没访问的点\n",
    "    while len(unvisited) > 0:\n",
    "        # 随机选择一个unvisited对象\n",
    "        p = random.choice(unvisited)\n",
    "        unvisited.remove(p)\n",
    "        visited.append(p)\n",
    "        # N为p的epsilon邻域中的对象的集合\n",
    "        N = []\n",
    "        for i in range(num):\n",
    "            if (dist(Data[i], Data[p]) <= Eps):# and (i!=p):\n",
    "                N.append(i)\n",
    "        # 如果p的epsilon邻域中的对象数大于指定阈值，说明p是一个核心对象\n",
    "        if len(N) >= MinPts:\n",
    "            k = k+1\n",
    "            # print(k)\n",
    "            C[p] = k\n",
    "            # 对于p的epsilon邻域中的每个对象pi\n",
    "            for pi in N:\n",
    "                if pi in unvisited:\n",
    "                    unvisited.remove(pi)\n",
    "                    visited.append(pi)\n",
    "                    # 找到pi的邻域中的核心对象，将这些对象放入N中\n",
    "                    # M是位于pi的邻域中的点的列表\n",
    "                    M = []\n",
    "                    for j in range(num):\n",
    "                        if (dist(Data[j], Data[pi])<=Eps): #and (j!=pi):\n",
    "                            M.append(j)\n",
    "                    if len(M)>=MinPts:\n",
    "                        for t in M:\n",
    "                            if t not in N:\n",
    "                                N.append(t)\n",
    "                # 若pi不属于任何簇，C[pi] == -1说明C中第pi个值没有改动\n",
    "                if C[pi] == -1:\n",
    "                    C[pi] = k\n",
    "        # 如果p的epsilon邻域中的对象数小于指定阈值，说明p是一个噪声点\n",
    "        else:\n",
    "            C[p] = -1\n",
    "    \n",
    "    #长方体去噪\n",
    "    NN = 0 #存储方框内点的个数的最大值\n",
    "    ii = 0 #记录中心点\n",
    "    for i in range(num):\n",
    "        MM = 0 #存储当前点方框内点的个数\n",
    "        if C[p] != -1:\n",
    "            for j in range(num):\n",
    "                if dist2(Data[i],Data[j]):\n",
    "                    MM+=1\n",
    "        if NN < MM:\n",
    "            ii = i\n",
    "            NN = MM\n",
    "    for i in range(num):\n",
    "        if not dist2(Data[i],Data[ii]):\n",
    "            C[p] = -1\n",
    "#     print(NN,ii)\n",
    "    return C"
   ]
  },
  {
   "cell_type": "code",
   "execution_count": 7,
   "id": "308de49e",
   "metadata": {},
   "outputs": [
    {
     "name": "stdout",
     "output_type": "stream",
     "text": [
      "[1. 0. 0. 0. 0. 0. 0. 0. 0. 0. 0. 0. 0. 0. 0. 0. 0. 0. 0. 0. 0. 0. 0.]\n",
      "6\n",
      "[0. 1. 0. 0. 0. 0. 0. 0. 0. 0. 0. 0. 0. 0. 0. 0. 0. 0. 0. 0. 0. 0. 0.]\n",
      "12\n",
      "[0. 0. 1. 0. 0. 0. 0. 0. 0. 0. 0. 0. 0. 0. 0. 0. 0. 0. 0. 0. 0. 0. 0.]\n",
      "12\n",
      "[0. 0. 0. 1. 0. 0. 0. 0. 0. 0. 0. 0. 0. 0. 0. 0. 0. 0. 0. 0. 0. 0. 0.]\n",
      "28\n",
      "[0. 0. 0. 0. 1. 0. 0. 0. 0. 0. 0. 0. 0. 0. 0. 0. 0. 0. 0. 0. 0. 0. 0.]\n",
      "37\n",
      "[0. 0. 0. 0. 0. 1. 0. 0. 0. 0. 0. 0. 0. 0. 0. 0. 0. 0. 0. 0. 0. 0. 0.]\n",
      "54\n",
      "[0. 0. 0. 0. 0. 0. 1. 0. 0. 0. 0. 0. 0. 0. 0. 0. 0. 0. 0. 0. 0. 0. 0.]\n",
      "73\n",
      "[0. 0. 0. 0. 0. 0. 0. 1. 0. 0. 0. 0. 0. 0. 0. 0. 0. 0. 0. 0. 0. 0. 0.]\n",
      "84\n",
      "[0. 0. 0. 0. 0. 0. 0. 0. 1. 0. 0. 0. 0. 0. 0. 0. 0. 0. 0. 0. 0. 0. 0.]\n",
      "87\n",
      "[0. 0. 0. 0. 0. 0. 0. 0. 0. 1. 0. 0. 0. 0. 0. 0. 0. 0. 0. 0. 0. 0. 0.]\n",
      "95\n",
      "[0. 0. 0. 0. 0. 0. 0. 0. 0. 0. 1. 0. 0. 0. 0. 0. 0. 0. 0. 0. 0. 0. 0.]\n",
      "100\n",
      "[0. 0. 0. 0. 0. 0. 0. 0. 0. 0. 0. 1. 0. 0. 0. 0. 0. 0. 0. 0. 0. 0. 0.]\n",
      "109\n",
      "[0. 0. 0. 0. 0. 0. 0. 0. 0. 0. 0. 0. 1. 0. 0. 0. 0. 0. 0. 0. 0. 0. 0.]\n",
      "129\n",
      "[0. 0. 0. 0. 0. 0. 0. 0. 0. 0. 0. 0. 0. 1. 0. 0. 0. 0. 0. 0. 0. 0. 0.]\n",
      "140\n",
      "[0. 0. 0. 0. 0. 0. 0. 0. 0. 0. 0. 0. 0. 0. 1. 0. 0. 0. 0. 0. 0. 0. 0.]\n",
      "152\n",
      "[0. 0. 0. 0. 0. 0. 0. 0. 0. 0. 0. 0. 0. 0. 0. 1. 0. 0. 0. 0. 0. 0. 0.]\n",
      "160\n",
      "[0. 0. 0. 0. 0. 0. 0. 0. 0. 0. 0. 0. 0. 0. 0. 0. 1. 0. 0. 0. 0. 0. 0.]\n",
      "169\n",
      "[0. 0. 0. 0. 0. 0. 0. 0. 0. 0. 0. 0. 0. 0. 0. 0. 0. 1. 0. 0. 0. 0. 0.]\n",
      "181\n",
      "[0. 0. 0. 0. 0. 0. 0. 0. 0. 0. 0. 0. 0. 0. 0. 0. 0. 0. 1. 0. 0. 0. 0.]\n",
      "202\n",
      "[0. 0. 0. 0. 0. 0. 0. 0. 0. 0. 0. 0. 0. 0. 0. 0. 0. 0. 0. 1. 0. 0. 0.]\n",
      "220\n",
      "[0. 0. 0. 0. 0. 0. 0. 0. 0. 0. 0. 0. 0. 0. 0. 0. 0. 0. 0. 0. 1. 0. 0.]\n",
      "239\n",
      "[0. 0. 0. 0. 0. 0. 0. 0. 0. 0. 0. 0. 0. 0. 0. 0. 0. 0. 0. 0. 0. 1. 0.]\n",
      "241\n",
      "[0. 0. 0. 0. 0. 0. 0. 0. 0. 0. 0. 0. 0. 0. 0. 0. 0. 0. 0. 0. 0. 0. 1.]\n"
     ]
    }
   ],
   "source": [
    "'''\n",
    "上采样\n",
    "'''\n",
    "\n",
    "people_num = []  #志愿者编号\n",
    "X = []\n",
    "label = np.zeros(people_count,dtype = float)\n",
    "Y = []\n",
    "n = 0\n",
    "for info in csv_all: \n",
    "    domain = os.path.abspath(file_path) #获取文件夹的路径 \n",
    "    path = os.path.join(domain,info) #将路径与文件名结合起来就是每个文件的完整路径 \n",
    "    people_num.append(info[0:3])\n",
    "    data = pd.read_csv(path)\n",
    "    data = data.drop( columns=['y','m','d','h','m.1','s'])\n",
    "    \n",
    "    #DBSCAN聚类\n",
    "    i = 0\n",
    "    Cs = []\n",
    "    while i < data.shape[0]:\n",
    "#         print(i)\n",
    "        frame_code = int(data.loc[i][0])\n",
    "        frame = []\n",
    "        while(frame_code == int(data.loc[i][0]) ):\n",
    "            frame.append( [data.loc[i][2],data.loc[i][3],data.loc[i][4] ] )\n",
    "            i+=1\n",
    "            if(i >= len(data)):\n",
    "                break\n",
    "#         db = sc.DBSCAN(eps=0.3, min_samples=7).fit(frame)\n",
    "#         Cs+=db.labels_.tolist()\n",
    "        \n",
    "        C = dbscan(Data = frame, Eps = 0.3, MinPts = 7)\n",
    "        \n",
    "#         print(C)\n",
    "        Cs+=C\n",
    "\n",
    "    #方框去噪点，量纲有问题\n",
    "\n",
    "    i = 0\n",
    "    label[n] = 1\n",
    "    print(label)\n",
    "    \n",
    "    while i < data.shape[0]:\n",
    "        pic = []\n",
    "        for _ in range(frame_size):\n",
    "            if i >= data.shape[0]:\n",
    "                break\n",
    "            objs=[]\n",
    "            if Cs[i] != -1:\n",
    "                objs.append(data.loc[i])\n",
    "            i+=1\n",
    "\n",
    "            #将同一帧的点云数据提取出来\n",
    "            while i < data.shape[0] and data.loc[i-1][0] == data.loc[i][0] :\n",
    "                if Cs[i] != -1:\n",
    "                    objs.append(data.loc[i])\n",
    "                i += 1\n",
    "            #初步想法，将i减去回到原来的位置,用一个大小为30的数组将每一次多加的给存起来，或者用一个变量存\n",
    "            if (len(objs)) == 0 or len(objs) < 16:\n",
    "                break\n",
    "            #不足则填充\n",
    "#             print(len(objs))\n",
    "            while len(objs) < points_frame:\n",
    "                \n",
    "                objs = objs+objs\n",
    "            objs = objs[:points_frame]\n",
    "            pic.append(objs)\n",
    "            \n",
    "        if len(pic) == frame_size:\n",
    "            pic = np.array(pic)\n",
    "            pic = pic[:,:,2:7]\n",
    "            pic = pic.tolist()\n",
    "            X.append(pic)\n",
    "            Y.append(copy.deepcopy(label))\n",
    "    label[n] = 0\n",
    "#     print(np.array(Y).shape)\n",
    "#     print(np.array(X).shape)\n",
    "    n+=1\n",
    "    if n == people_count:\n",
    "        break\n",
    "\n",
    "    print(len(X))\n"
   ]
  },
  {
   "cell_type": "code",
   "execution_count": 8,
   "id": "ff09657f",
   "metadata": {},
   "outputs": [
    {
     "name": "stdout",
     "output_type": "stream",
     "text": [
      "(248, 32, 64, 5)\n",
      "(248, 23)\n",
      "<class 'list'>\n"
     ]
    }
   ],
   "source": [
    "print(np.array(X).shape)\n",
    "print(np.array(Y).shape)\n",
    "\n",
    "Y = list(np.float_(Y))\n",
    "\n",
    "print(type(X)) # (248, 32, 64, 5) -> (样本数？， 32帧， 64个点，5个属性)"
   ]
  },
  {
   "cell_type": "code",
   "execution_count": 9,
   "id": "0dbdc405",
   "metadata": {},
   "outputs": [],
   "source": [
    "'''\n",
    "缺失值处理\n",
    "'''\n",
    "for i in range(len(X)):\n",
    "    for j in range(30):\n",
    "        for k in range(points_frame): \n",
    "            if X[i][j][k][3] > 10 or X[i][j][k][3] < -10 or np.isnan(X[i][j][k][3]):\n",
    "                X[i][j][k][3] = 0\n"
   ]
  },
  {
   "cell_type": "code",
   "execution_count": 10,
   "id": "36a76d67",
   "metadata": {},
   "outputs": [
    {
     "name": "stdout",
     "output_type": "stream",
     "text": [
      "[]\n"
     ]
    }
   ],
   "source": [
    "X = np.array(X)\n",
    "print(np.argwhere(np.isnan(X)))"
   ]
  },
  {
   "cell_type": "code",
   "execution_count": 75,
   "id": "5395d046",
   "metadata": {},
   "outputs": [],
   "source": [
    "\n",
    "X_train ,X_test,Y_train,Y_test =train_test_split(X,Y,test_size= 0.2,shuffle=True,random_state =None)  # 设置测试集百分比 !!!!!!!!!!!!!数据集划分\n",
    "X_train, Y_train = torch.FloatTensor(X_train),torch.FloatTensor(Y_train)     #训练集的输入： tensor浮点数 训练集的输出： tensor 整数\n",
    "X_test,  Y_test= torch.FloatTensor(X_test),torch.FloatTensor(Y_test)         #测试集的输入： tensor浮点数 测试集的输出： tensor 整数\n",
    "\n",
    "\n",
    "train_dataset =  torch.utils.data.TensorDataset(X_train,Y_train)\n",
    "test_dataset = torch.utils.data.TensorDataset(X_test,Y_test)\n",
    "\n",
    "# 设置 drop_last=True， 不足batch_size则丢弃\n",
    "train_loader = torch.utils.data.DataLoader(dataset =train_dataset ,batch_size = 32,shuffle =True, drop_last=True)  # 设置每次训练的数据的数目：batch_size =400\n",
    "test_loader = torch.utils.data.DataLoader(dataset =test_dataset ,batch_size = 32,shuffle = False, drop_last=True)\n",
    "\n"
   ]
  },
  {
   "cell_type": "code",
   "execution_count": 3,
   "id": "44b6da63",
   "metadata": {},
   "outputs": [
    {
     "ename": "NameError",
     "evalue": "name 'test_dataset' is not defined",
     "output_type": "error",
     "traceback": [
      "\u001b[1;31m---------------------------------------------------------------------------\u001b[0m",
      "\u001b[1;31mNameError\u001b[0m                                 Traceback (most recent call last)",
      "Cell \u001b[1;32mIn [3], line 1\u001b[0m\n\u001b[1;32m----> 1\u001b[0m \u001b[39mprint\u001b[39m(\u001b[39mlen\u001b[39m(test_dataset))\n",
      "\u001b[1;31mNameError\u001b[0m: name 'test_dataset' is not defined"
     ]
    }
   ],
   "source": [
    "print(len(test_dataset))"
   ]
  },
  {
   "cell_type": "code",
   "execution_count": 2,
   "id": "e684be99",
   "metadata": {},
   "outputs": [
    {
     "ename": "NameError",
     "evalue": "name 'torch' is not defined",
     "output_type": "error",
     "traceback": [
      "\u001b[1;31m---------------------------------------------------------------------------\u001b[0m",
      "\u001b[1;31mNameError\u001b[0m                                 Traceback (most recent call last)",
      "Cell \u001b[1;32mIn [2], line 1\u001b[0m\n\u001b[1;32m----> 1\u001b[0m torch\u001b[39m.\u001b[39msave(train_dataset, file_path\u001b[39m.\u001b[39mreplace(\u001b[39m\"\u001b[39m\u001b[39m\\\\\u001b[39;00m\u001b[39m\"\u001b[39m,\u001b[39m\"\u001b[39m\u001b[39m_\u001b[39m\u001b[39m\"\u001b[39m) \u001b[39m+\u001b[39m \u001b[39m\"\u001b[39m\u001b[39m_train_dataset\u001b[39m\u001b[39m\"\u001b[39m)\n\u001b[0;32m      2\u001b[0m torch\u001b[39m.\u001b[39msave(test_dataset, file_path\u001b[39m.\u001b[39mreplace(\u001b[39m\"\u001b[39m\u001b[39m\\\\\u001b[39;00m\u001b[39m\"\u001b[39m,\u001b[39m\"\u001b[39m\u001b[39m_\u001b[39m\u001b[39m\"\u001b[39m) \u001b[39m+\u001b[39m \u001b[39m\"\u001b[39m\u001b[39m_test_dataset\u001b[39m\u001b[39m\"\u001b[39m)\n",
      "\u001b[1;31mNameError\u001b[0m: name 'torch' is not defined"
     ]
    }
   ],
   "source": [
    "torch.save(train_dataset, file_path.replace(\"\\\\\",\"_\") + \"_train_dataset\")\n",
    "torch.save(test_dataset, file_path.replace(\"\\\\\",\"_\") + \"_test_dataset\")"
   ]
  },
  {
   "cell_type": "code",
   "execution_count": 17,
   "id": "675f9775",
   "metadata": {},
   "outputs": [],
   "source": [
    "!cd ../people-gait"
   ]
  },
  {
   "cell_type": "code",
   "execution_count": 4,
   "id": "0ed1e1ec",
   "metadata": {},
   "outputs": [
    {
     "data": {
      "text/plain": [
       "'d:\\\\workspace\\\\mycode'"
      ]
     },
     "execution_count": 4,
     "metadata": {},
     "output_type": "execute_result"
    }
   ],
   "source": [
    "pwd"
   ]
  },
  {
   "cell_type": "code",
   "execution_count": 8,
   "id": "60b4027e",
   "metadata": {},
   "outputs": [
    {
     "ename": "FileNotFoundError",
     "evalue": "[Errno 2] No such file or directory: 'room1_1_free_route_77Ghz_radar_train_dataset'",
     "output_type": "error",
     "traceback": [
      "\u001b[1;31m---------------------------------------------------------------------------\u001b[0m",
      "\u001b[1;31mFileNotFoundError\u001b[0m                         Traceback (most recent call last)",
      "Cell \u001b[1;32mIn [8], line 1\u001b[0m\n\u001b[1;32m----> 1\u001b[0m train_dataset \u001b[39m=\u001b[39m torch\u001b[39m.\u001b[39;49mload(file_path\u001b[39m.\u001b[39;49mreplace(\u001b[39m\"\u001b[39;49m\u001b[39m\\\\\u001b[39;49;00m\u001b[39m\"\u001b[39;49m,\u001b[39m\"\u001b[39;49m\u001b[39m_\u001b[39;49m\u001b[39m\"\u001b[39;49m) \u001b[39m+\u001b[39;49m \u001b[39m\"\u001b[39;49m\u001b[39m_train_dataset\u001b[39;49m\u001b[39m\"\u001b[39;49m)\n\u001b[0;32m      2\u001b[0m test_dataset \u001b[39m=\u001b[39m torch\u001b[39m.\u001b[39mload(file_path\u001b[39m.\u001b[39mreplace(\u001b[39m\"\u001b[39m\u001b[39m\\\\\u001b[39;00m\u001b[39m\"\u001b[39m,\u001b[39m\"\u001b[39m\u001b[39m_\u001b[39m\u001b[39m\"\u001b[39m) \u001b[39m+\u001b[39m \u001b[39m\"\u001b[39m\u001b[39m_test_dataset\u001b[39m\u001b[39m\"\u001b[39m)\n",
      "File \u001b[1;32mc:\\Users\\py\\.conda\\envs\\pytorch\\lib\\site-packages\\torch\\serialization.py:771\u001b[0m, in \u001b[0;36mload\u001b[1;34m(f, map_location, pickle_module, weights_only, **pickle_load_args)\u001b[0m\n\u001b[0;32m    768\u001b[0m \u001b[39mif\u001b[39;00m \u001b[39m'\u001b[39m\u001b[39mencoding\u001b[39m\u001b[39m'\u001b[39m \u001b[39mnot\u001b[39;00m \u001b[39min\u001b[39;00m pickle_load_args\u001b[39m.\u001b[39mkeys():\n\u001b[0;32m    769\u001b[0m     pickle_load_args[\u001b[39m'\u001b[39m\u001b[39mencoding\u001b[39m\u001b[39m'\u001b[39m] \u001b[39m=\u001b[39m \u001b[39m'\u001b[39m\u001b[39mutf-8\u001b[39m\u001b[39m'\u001b[39m\n\u001b[1;32m--> 771\u001b[0m \u001b[39mwith\u001b[39;00m _open_file_like(f, \u001b[39m'\u001b[39;49m\u001b[39mrb\u001b[39;49m\u001b[39m'\u001b[39;49m) \u001b[39mas\u001b[39;00m opened_file:\n\u001b[0;32m    772\u001b[0m     \u001b[39mif\u001b[39;00m _is_zipfile(opened_file):\n\u001b[0;32m    773\u001b[0m         \u001b[39m# The zipfile reader is going to advance the current file position.\u001b[39;00m\n\u001b[0;32m    774\u001b[0m         \u001b[39m# If we want to actually tail call to torch.jit.load, we need to\u001b[39;00m\n\u001b[0;32m    775\u001b[0m         \u001b[39m# reset back to the original position.\u001b[39;00m\n\u001b[0;32m    776\u001b[0m         orig_position \u001b[39m=\u001b[39m opened_file\u001b[39m.\u001b[39mtell()\n",
      "File \u001b[1;32mc:\\Users\\py\\.conda\\envs\\pytorch\\lib\\site-packages\\torch\\serialization.py:270\u001b[0m, in \u001b[0;36m_open_file_like\u001b[1;34m(name_or_buffer, mode)\u001b[0m\n\u001b[0;32m    268\u001b[0m \u001b[39mdef\u001b[39;00m \u001b[39m_open_file_like\u001b[39m(name_or_buffer, mode):\n\u001b[0;32m    269\u001b[0m     \u001b[39mif\u001b[39;00m _is_path(name_or_buffer):\n\u001b[1;32m--> 270\u001b[0m         \u001b[39mreturn\u001b[39;00m _open_file(name_or_buffer, mode)\n\u001b[0;32m    271\u001b[0m     \u001b[39melse\u001b[39;00m:\n\u001b[0;32m    272\u001b[0m         \u001b[39mif\u001b[39;00m \u001b[39m'\u001b[39m\u001b[39mw\u001b[39m\u001b[39m'\u001b[39m \u001b[39min\u001b[39;00m mode:\n",
      "File \u001b[1;32mc:\\Users\\py\\.conda\\envs\\pytorch\\lib\\site-packages\\torch\\serialization.py:251\u001b[0m, in \u001b[0;36m_open_file.__init__\u001b[1;34m(self, name, mode)\u001b[0m\n\u001b[0;32m    250\u001b[0m \u001b[39mdef\u001b[39;00m \u001b[39m__init__\u001b[39m(\u001b[39mself\u001b[39m, name, mode):\n\u001b[1;32m--> 251\u001b[0m     \u001b[39msuper\u001b[39m(_open_file, \u001b[39mself\u001b[39m)\u001b[39m.\u001b[39m\u001b[39m__init__\u001b[39m(\u001b[39mopen\u001b[39;49m(name, mode))\n",
      "\u001b[1;31mFileNotFoundError\u001b[0m: [Errno 2] No such file or directory: 'room1_1_free_route_77Ghz_radar_train_dataset'"
     ]
    }
   ],
   "source": [
    "train_dataset = torch.load(file_path.replace(\"\\\\\",\"_\") + \"_train_dataset\")\n",
    "test_dataset = torch.load(file_path.replace(\"\\\\\",\"_\") + \"_test_dataset\")"
   ]
  },
  {
   "cell_type": "code",
   "execution_count": 76,
   "id": "e029d545",
   "metadata": {},
   "outputs": [
    {
     "name": "stdout",
     "output_type": "stream",
     "text": [
      "<class 'torch.Tensor'>\n",
      "cpu\n",
      "torch.Size([32, 32, 64, 5])\n",
      "torch.Size([32, 23])\n"
     ]
    }
   ],
   "source": [
    "# X_train.shape, X_test.shape\n",
    "for i, data in enumerate(train_loader):\n",
    "\n",
    "    # forward\n",
    "    inputs, labels = data\n",
    "    print(type(inputs))\n",
    "    print(inputs.device)\n",
    "    print(inputs.shape) # torch.Size([32, 32, 64, 5])  [B, 帧数，点数，5个维度]\n",
    "    print(labels.shape)\n",
    "    break"
   ]
  },
  {
   "cell_type": "code",
   "execution_count": 13,
   "id": "8d40562a",
   "metadata": {},
   "outputs": [
    {
     "name": "stdout",
     "output_type": "stream",
     "text": [
      "23\n"
     ]
    }
   ],
   "source": [
    "print(people_count)"
   ]
  },
  {
   "cell_type": "code",
   "execution_count": 126,
   "id": "d4c9a689",
   "metadata": {},
   "outputs": [
    {
     "name": "stdout",
     "output_type": "stream",
     "text": [
      "start -->\n",
      "torch.Size([32, 23])\n"
     ]
    },
    {
     "name": "stderr",
     "output_type": "stream",
     "text": [
      "c:\\Users\\py\\.conda\\envs\\pytorch\\lib\\site-packages\\torch\\nn\\modules\\rnn.py:67: UserWarning: dropout option adds dropout after all but last recurrent layer, so non-zero dropout expects num_layers greater than 1, but got dropout=0.5 and num_layers=1\n",
      "  warnings.warn(\"dropout option adds dropout after all but last \"\n"
     ]
    }
   ],
   "source": [
    "import torch.nn as nn\n",
    "import torch\n",
    "\n",
    "\n",
    "class BasicBlock(nn.Module): #ResNet18 or 34 block\n",
    "    expansion = 1\n",
    "\n",
    "    def __init__(self, in_channel, out_channel, stride=1, downsample=None, **kwargs):\n",
    "        super(BasicBlock, self).__init__()\n",
    "        self.conv1 = nn.Conv2d(in_channels=in_channel, out_channels=out_channel,\n",
    "                               kernel_size=3, stride=stride, padding=1, bias=False)\n",
    "        self.bn1 = nn.BatchNorm2d(out_channel)\n",
    "        self.relu = nn.ReLU()\n",
    "        self.conv2 = nn.Conv2d(in_channels=out_channel, out_channels=out_channel,\n",
    "                               kernel_size=3, stride=1, padding=1, bias=False)\n",
    "        self.bn2 = nn.BatchNorm2d(out_channel)\n",
    "        self.downsample = downsample\n",
    "\n",
    "    def forward(self, x):\n",
    "        identity = x\n",
    "        if self.downsample is not None:\n",
    "            identity = self.downsample(x)\n",
    "\n",
    "        out = self.conv1(x)\n",
    "        out = self.bn1(out)\n",
    "        out = self.relu(out)\n",
    "\n",
    "        out = self.conv2(out)\n",
    "        out = self.bn2(out)\n",
    "\n",
    "        out += identity\n",
    "        out = self.relu(out)\n",
    "\n",
    "        return out\n",
    "\n",
    "class AttributeNetwork(nn.Module): #[(32, 1, 30, 128)] -> ([32, 64, 8, 32])\n",
    "    def __init__(self):\n",
    "        super(AttributeNetwork, self).__init__()\n",
    "        # 定义 组件\n",
    "        self.in_channel = 64\n",
    "        # in_channel 修改为1，直接从1—>64\n",
    "        self.conv1 = nn.Conv2d(1, self.in_channel, kernel_size=7, stride=2,\n",
    "                               padding=3, bias=False)\n",
    "        self.bn1 = nn.BatchNorm2d(self.in_channel)\n",
    "        self.relu = nn.ReLU(inplace=True)\n",
    "        self.maxpool = nn.MaxPool2d(kernel_size=3, stride=2, padding=1)\n",
    "\n",
    "        self.residual_block = BasicBlock(self.in_channel, self.in_channel) # 先用resnet18 1x1 的步距，论文2x2什么鬼？\n",
    "\n",
    "    def forward(self, x):\n",
    "        x = self.conv1(x)\n",
    "        x = self.bn1(x)\n",
    "        x = self.relu(x)\n",
    "        x = self.maxpool(x)\n",
    "\n",
    "        x = self.residual_block(x)\n",
    "\n",
    "        return x\n",
    "\n",
    "class my_mmGaitNet(nn.Module): \n",
    "    def __init__(self, people_count):\n",
    "        super(my_mmGaitNet, self).__init__()\n",
    "        self.x_forward = AttributeNetwork()\n",
    "        self.y_forward = AttributeNetwork()\n",
    "        self.z_forward = AttributeNetwork()\n",
    "        self.v_forward = AttributeNetwork()\n",
    "        self.s_forward = AttributeNetwork()\n",
    "\n",
    "        self.conv2 = torch.nn.Sequential(\n",
    "            torch.nn.Conv2d(in_channels = 64 * 5,\n",
    "                           out_channels = 64 * 5, \n",
    "                           kernel_size = 3,\n",
    "                            stride = 1,\n",
    "                            padding = 1,\n",
    "                            bias=False\n",
    "                           ),\n",
    "            torch.nn.BatchNorm2d(64 * 5),\n",
    "            torch.nn.ReLU()\n",
    "        )\n",
    "        self.pooling = torch.nn.AdaptiveAvgPool2d((2,2)) \n",
    "\n",
    "        self.lstm = nn.LSTM(input_size = 320, hidden_size= 128, batch_first=True, dropout=0.5)\n",
    "        self.fc1 = nn.Linear(128, 64) # self.fc1 = nn.Linear(4 * 128, 128)\n",
    "        self.dropout = nn.Dropout(0.5)\n",
    "        self.fc = nn.Linear(128, people_count)\n",
    "\n",
    "    def forward(self, xx): # xx: [B,T,N,C] [B,帧数，点数，5个属性] [32, 32, 64, 5]\n",
    "        xx = xx.permute(0, 3, 1, 2)\n",
    "        # print(\"xx :\",xx.shape)  # [B, C, T, N]\n",
    "        \n",
    "        x = self.x_forward(xx[:, 0, :, :].unsqueeze(dim=1)) # keep dim\n",
    "        # print(\"x :\", x.shape)\n",
    "        y = self.y_forward(xx[:, 1, :, :].unsqueeze(dim=1))\n",
    "        z = self.z_forward(xx[:, 2, :, :].unsqueeze(dim=1))\n",
    "        v = self.v_forward(xx[:, 3, :, :].unsqueeze(dim=1))\n",
    "        s = self.s_forward(xx[:, 4, :, :].unsqueeze(dim=1))\n",
    "\n",
    "        scr = torch.cat([x,y,z,v,s],dim=1) # (B,C,T,N) (B, 64 * 5, 8, 16)\n",
    "        # print(f'src.shape = {scr.shape}')\n",
    "        scr = self.conv2(scr)\n",
    "        # print(f'self.conv2(scr) = {scr.shape}')\n",
    "        scr = self.pooling(scr)\n",
    "      \n",
    "        # print(f'after pooling -> src.shape = {scr.shape}')\n",
    "        scr = scr.view(batch_size, 320, -1)\n",
    "        # print(f'after view -> src.shape = {scr.shape}')\n",
    "        scr = scr.permute(0, 2, 1)\n",
    "        # print(f'after pemute -> src.shape = {scr.shape}')\n",
    "        # ########## 添加lstm #####|#######\n",
    "        # # scr = scr.view(B, -1, 320)\n",
    "        scr, (hn, cn) = self.lstm(scr)\n",
    "        # print(f'after lstm -> src.shape = {scr.shape}')\n",
    "        # print(f' hn.shape = {hn.shape}')\n",
    "\n",
    "        hn = hn.permute(1,0,2).view(batch_size, -1)\n",
    "        # print(f'after permute ->  hn.shape = {hn.shape}')\n",
    "        # scr = scr.reshape(batch_size, -1) # (32, 4 * 128)\n",
    "        # print(f'after reshape -> src.shape = {scr.shape}')\n",
    "        # scr = scr.reshape(batch_size, -1)\n",
    "        # scr = self.fc1(scr)\n",
    "        # scr = self.dropout(scr)\n",
    "        # scr = self.fc(scr)\n",
    "        # print(\"-------------------------------------\")\n",
    "        # scr = self.fc1(hn)\n",
    "        # scr = self.dropout(scr)\n",
    "        scr = self.fc(hn)\n",
    "\n",
    "        return scr\n",
    "\n",
    "if __name__== '__main__':\n",
    "    print(\"start -->\")\n",
    "    model = my_mmGaitNet(people_count)\n",
    "    x = torch.rand(32, 32, 64, 5) # [B,帧数，点数，5个属性]\n",
    "    output = model(x)\n",
    "    print(output.shape)\n",
    "    "
   ]
  },
  {
   "cell_type": "code",
   "execution_count": 118,
   "id": "81943e5e",
   "metadata": {},
   "outputs": [
    {
     "data": {
      "text/plain": [
       "23"
      ]
     },
     "execution_count": 118,
     "metadata": {},
     "output_type": "execute_result"
    }
   ],
   "source": [
    "people_count"
   ]
  },
  {
   "cell_type": "code",
   "execution_count": 127,
   "id": "777b2bbd",
   "metadata": {},
   "outputs": [
    {
     "name": "stdout",
     "output_type": "stream",
     "text": [
      "my_mmGaitNet(\n",
      "  (x_forward): AttributeNetwork(\n",
      "    (conv1): Conv2d(1, 64, kernel_size=(7, 7), stride=(2, 2), padding=(3, 3), bias=False)\n",
      "    (bn1): BatchNorm2d(64, eps=1e-05, momentum=0.1, affine=True, track_running_stats=True)\n",
      "    (relu): ReLU(inplace=True)\n",
      "    (maxpool): MaxPool2d(kernel_size=3, stride=2, padding=1, dilation=1, ceil_mode=False)\n",
      "    (residual_block): BasicBlock(\n",
      "      (conv1): Conv2d(64, 64, kernel_size=(3, 3), stride=(1, 1), padding=(1, 1), bias=False)\n",
      "      (bn1): BatchNorm2d(64, eps=1e-05, momentum=0.1, affine=True, track_running_stats=True)\n",
      "      (relu): ReLU()\n",
      "      (conv2): Conv2d(64, 64, kernel_size=(3, 3), stride=(1, 1), padding=(1, 1), bias=False)\n",
      "      (bn2): BatchNorm2d(64, eps=1e-05, momentum=0.1, affine=True, track_running_stats=True)\n",
      "    )\n",
      "  )\n",
      "  (y_forward): AttributeNetwork(\n",
      "    (conv1): Conv2d(1, 64, kernel_size=(7, 7), stride=(2, 2), padding=(3, 3), bias=False)\n",
      "    (bn1): BatchNorm2d(64, eps=1e-05, momentum=0.1, affine=True, track_running_stats=True)\n",
      "    (relu): ReLU(inplace=True)\n",
      "    (maxpool): MaxPool2d(kernel_size=3, stride=2, padding=1, dilation=1, ceil_mode=False)\n",
      "    (residual_block): BasicBlock(\n",
      "      (conv1): Conv2d(64, 64, kernel_size=(3, 3), stride=(1, 1), padding=(1, 1), bias=False)\n",
      "      (bn1): BatchNorm2d(64, eps=1e-05, momentum=0.1, affine=True, track_running_stats=True)\n",
      "      (relu): ReLU()\n",
      "      (conv2): Conv2d(64, 64, kernel_size=(3, 3), stride=(1, 1), padding=(1, 1), bias=False)\n",
      "      (bn2): BatchNorm2d(64, eps=1e-05, momentum=0.1, affine=True, track_running_stats=True)\n",
      "    )\n",
      "  )\n",
      "  (z_forward): AttributeNetwork(\n",
      "    (conv1): Conv2d(1, 64, kernel_size=(7, 7), stride=(2, 2), padding=(3, 3), bias=False)\n",
      "    (bn1): BatchNorm2d(64, eps=1e-05, momentum=0.1, affine=True, track_running_stats=True)\n",
      "    (relu): ReLU(inplace=True)\n",
      "    (maxpool): MaxPool2d(kernel_size=3, stride=2, padding=1, dilation=1, ceil_mode=False)\n",
      "    (residual_block): BasicBlock(\n",
      "      (conv1): Conv2d(64, 64, kernel_size=(3, 3), stride=(1, 1), padding=(1, 1), bias=False)\n",
      "      (bn1): BatchNorm2d(64, eps=1e-05, momentum=0.1, affine=True, track_running_stats=True)\n",
      "      (relu): ReLU()\n",
      "      (conv2): Conv2d(64, 64, kernel_size=(3, 3), stride=(1, 1), padding=(1, 1), bias=False)\n",
      "      (bn2): BatchNorm2d(64, eps=1e-05, momentum=0.1, affine=True, track_running_stats=True)\n",
      "    )\n",
      "  )\n",
      "  (v_forward): AttributeNetwork(\n",
      "    (conv1): Conv2d(1, 64, kernel_size=(7, 7), stride=(2, 2), padding=(3, 3), bias=False)\n",
      "    (bn1): BatchNorm2d(64, eps=1e-05, momentum=0.1, affine=True, track_running_stats=True)\n",
      "    (relu): ReLU(inplace=True)\n",
      "    (maxpool): MaxPool2d(kernel_size=3, stride=2, padding=1, dilation=1, ceil_mode=False)\n",
      "    (residual_block): BasicBlock(\n",
      "      (conv1): Conv2d(64, 64, kernel_size=(3, 3), stride=(1, 1), padding=(1, 1), bias=False)\n",
      "      (bn1): BatchNorm2d(64, eps=1e-05, momentum=0.1, affine=True, track_running_stats=True)\n",
      "      (relu): ReLU()\n",
      "      (conv2): Conv2d(64, 64, kernel_size=(3, 3), stride=(1, 1), padding=(1, 1), bias=False)\n",
      "      (bn2): BatchNorm2d(64, eps=1e-05, momentum=0.1, affine=True, track_running_stats=True)\n",
      "    )\n",
      "  )\n",
      "  (s_forward): AttributeNetwork(\n",
      "    (conv1): Conv2d(1, 64, kernel_size=(7, 7), stride=(2, 2), padding=(3, 3), bias=False)\n",
      "    (bn1): BatchNorm2d(64, eps=1e-05, momentum=0.1, affine=True, track_running_stats=True)\n",
      "    (relu): ReLU(inplace=True)\n",
      "    (maxpool): MaxPool2d(kernel_size=3, stride=2, padding=1, dilation=1, ceil_mode=False)\n",
      "    (residual_block): BasicBlock(\n",
      "      (conv1): Conv2d(64, 64, kernel_size=(3, 3), stride=(1, 1), padding=(1, 1), bias=False)\n",
      "      (bn1): BatchNorm2d(64, eps=1e-05, momentum=0.1, affine=True, track_running_stats=True)\n",
      "      (relu): ReLU()\n",
      "      (conv2): Conv2d(64, 64, kernel_size=(3, 3), stride=(1, 1), padding=(1, 1), bias=False)\n",
      "      (bn2): BatchNorm2d(64, eps=1e-05, momentum=0.1, affine=True, track_running_stats=True)\n",
      "    )\n",
      "  )\n",
      "  (conv2): Sequential(\n",
      "    (0): Conv2d(320, 320, kernel_size=(3, 3), stride=(1, 1), padding=(1, 1), bias=False)\n",
      "    (1): BatchNorm2d(320, eps=1e-05, momentum=0.1, affine=True, track_running_stats=True)\n",
      "    (2): ReLU()\n",
      "  )\n",
      "  (pooling): AdaptiveAvgPool2d(output_size=(2, 2))\n",
      "  (lstm): LSTM(320, 128, batch_first=True, dropout=0.5)\n",
      "  (fc1): Linear(in_features=128, out_features=64, bias=True)\n",
      "  (dropout): Dropout(p=0.5, inplace=False)\n",
      "  (fc): Linear(in_features=128, out_features=23, bias=True)\n",
      ")\n",
      "Adam (\n",
      "Parameter Group 0\n",
      "    amsgrad: False\n",
      "    betas: (0.9, 0.999)\n",
      "    capturable: False\n",
      "    differentiable: False\n",
      "    eps: 1e-08\n",
      "    foreach: None\n",
      "    fused: False\n",
      "    initial_lr: 0.01\n",
      "    lr: 0.01\n",
      "    maximize: False\n",
      "    weight_decay: 0\n",
      ")\n",
      "<torch.optim.lr_scheduler.StepLR object at 0x00000289012DC280>\n",
      "CrossEntropyLoss()\n"
     ]
    }
   ],
   "source": [
    "# model = mmGaitNet()\n",
    "model = my_mmGaitNet(people_count)\n",
    "#设置初始学习率\n",
    "optimizer = optim.Adam(model.parameters(), lr = 0.01)\n",
    "#每8个epoch学习率下降至原来的0.1倍\n",
    "scheduler = StepLR(optimizer, step_size=8, gamma=0.1)\n",
    "\n",
    "loss_func = torch.nn.CrossEntropyLoss()\n",
    "\n",
    "print(model)\n",
    "print(optimizer)\n",
    "print(scheduler)\n",
    "print(loss_func)"
   ]
  },
  {
   "cell_type": "code",
   "execution_count": null,
   "id": "bbc77e3c",
   "metadata": {},
   "outputs": [],
   "source": []
  },
  {
   "cell_type": "code",
   "execution_count": 128,
   "id": "e1a88056",
   "metadata": {},
   "outputs": [],
   "source": [
    "train_loss_count = []\n",
    "test_loss_count = []\n",
    "train_acc_count = []\n",
    "test_acc_count = []"
   ]
  },
  {
   "cell_type": "code",
   "execution_count": 129,
   "id": "a181b221",
   "metadata": {
    "scrolled": true
   },
   "outputs": [
    {
     "name": "stdout",
     "output_type": "stream",
     "text": [
      "epoch: 0\n",
      "train:\t 0.068\n",
      "test:\t 0.104\n",
      "epoch: 1\n",
      "train:\t 0.167\n",
      "test:\t 0.057\n",
      "epoch: 2\n",
      "train:\t 0.234\n",
      "test:\t 0.078\n",
      "epoch: 3\n",
      "train:\t 0.281\n",
      "test:\t 0.073\n",
      "epoch: 4\n",
      "train:\t 0.354\n",
      "test:\t 0.12\n",
      "epoch: 5\n",
      "train:\t 0.396\n",
      "test:\t 0.151\n",
      "epoch: 6\n",
      "train:\t 0.469\n",
      "test:\t 0.167\n",
      "epoch: 7\n",
      "train:\t 0.505\n",
      "test:\t 0.167\n",
      "epoch: 8\n",
      "train:\t 0.604\n",
      "test:\t 0.193\n",
      "epoch: 9\n",
      "train:\t 0.667\n",
      "test:\t 0.219\n",
      "epoch: 10\n",
      "train:\t 0.672\n",
      "test:\t 0.177\n",
      "epoch: 11\n",
      "train:\t 0.734\n",
      "test:\t 0.24\n",
      "epoch: 12\n",
      "train:\t 0.729\n",
      "test:\t 0.25\n",
      "epoch: 13\n",
      "train:\t 0.74\n",
      "test:\t 0.26\n",
      "epoch: 14\n",
      "train:\t 0.755\n",
      "test:\t 0.214\n",
      "epoch: 15\n",
      "train:\t 0.823\n",
      "test:\t 0.208\n",
      "epoch: 16\n",
      "train:\t 0.812\n",
      "test:\t 0.25\n",
      "epoch: 17\n",
      "train:\t 0.818\n",
      "test:\t 0.25\n",
      "epoch: 18\n",
      "train:\t 0.849\n",
      "test:\t 0.25\n",
      "epoch: 19\n",
      "train:\t 0.844\n",
      "test:\t 0.25\n",
      "epoch: 20\n",
      "train:\t 0.849\n",
      "test:\t 0.25\n",
      "epoch: 21\n",
      "train:\t 0.875\n",
      "test:\t 0.25\n",
      "epoch: 22\n",
      "train:\t 0.818\n",
      "test:\t 0.25\n",
      "epoch: 23\n",
      "train:\t 0.844\n",
      "test:\t 0.25\n",
      "epoch: 24\n",
      "train:\t 0.823\n",
      "test:\t 0.25\n",
      "epoch: 25\n",
      "train:\t 0.844\n",
      "test:\t 0.25\n",
      "epoch: 26\n",
      "train:\t 0.859\n",
      "test:\t 0.25\n",
      "epoch: 27\n",
      "train:\t 0.802\n",
      "test:\t 0.25\n",
      "epoch: 28\n",
      "train:\t 0.849\n",
      "test:\t 0.25\n",
      "epoch: 29\n",
      "train:\t 0.87\n",
      "test:\t 0.25\n"
     ]
    }
   ],
   "source": [
    "epoch = 30\n",
    " \n",
    "for epoch in range(epoch):\n",
    "    print(\"epoch:\",epoch)\n",
    "    test_acc = []\n",
    "    train_acc = []\n",
    "    for i,(x,y) in enumerate(train_loader):\n",
    "        batch_x = Variable(x)\n",
    "        batch_y = Variable(y)\n",
    "        # batch_x = batch_x.permute(0, 3, 1, 2)\n",
    "        # print(batch_x.shape)\n",
    "        # break\n",
    "        # print(batch_x.shape)\n",
    "        # print(batch_y.shape)\n",
    "        # break\n",
    "        out = model(batch_x)\n",
    "        # print(out.shape)\n",
    "        # batch_x = batch_x.unsqueeze(1)\n",
    "        # out = model(batch_x[:,:,:,:,0],batch_x[:,:,:,:,1],batch_x[:,:,:,:,2],batch_x[:,:,:,:,3],batch_x[:,:,:,:,4])\n",
    "        \n",
    "        accuracy = torch.max(out,1)[1].numpy() == torch.max(batch_y,1)[1].numpy()\n",
    "        # print(f'accuracy = {accuracy}')\n",
    "        \n",
    "        train_acc.append(accuracy.mean())\n",
    "\n",
    "        # 获取损失\n",
    "        loss = loss_func(out,batch_y)\n",
    "        \n",
    "        # 使用优化器优化损失\n",
    "        optimizer.zero_grad()  # 清空上一步残余更新参数值\n",
    "        loss.backward() # 误差反向传播，计算参数更新值\n",
    "        optimizer.step() # 将参数更新值施加到net的parmeters上\n",
    "\n",
    "        train_loss_count.append(loss.item())\n",
    "        # torch.save(model, r'log_CNN')\n",
    "        \n",
    "        for a,b in test_loader:\n",
    "            test_x = Variable(a)\n",
    "            test_y = Variable(b)\n",
    "            # test_x = test_x.permute(0, 3, 1, 2)\n",
    "            # test_x = test_x.unsqueeze(1)\n",
    "#             print(test_x.shape)\n",
    "            # out = model(test_x[:,:,:,:,0],test_x[:,:,:,:,1],test_x[:,:,:,:,2],test_x[:,:,:,:,3],test_x[:,:,:,:,4])\n",
    "            out = model(test_x)\n",
    "            loss = loss_func(out,test_y)\n",
    "            test_loss_count.append(loss.item())\n",
    "\n",
    "            accuracy = torch.max(out,1)[1].numpy() == torch.max(test_y,1)[1].numpy()\n",
    "            # print(accuracy.mean())\n",
    "            test_acc.append(accuracy.mean())\n",
    "            # print(test_acc)\n",
    "            \n",
    "    scheduler.step()\n",
    "    print(\"train:\\t\",round(np.mean(train_acc),3 ))\n",
    "    print(\"test:\\t\",round(np.mean(test_acc),3) )\n",
    "    train_acc_count.append(np.mean(train_acc))\n",
    "    test_acc_count.append(np.mean(test_acc))\n",
    "\n",
    "    # break\n",
    "   "
   ]
  },
  {
   "cell_type": "code",
   "execution_count": 130,
   "id": "9a42f9bc",
   "metadata": {},
   "outputs": [
    {
     "data": {
      "image/png": "[encoded data removed]",
      "text/plain": [
       "<Figure size 640x480 with 1 Axes>"
      ]
     },
     "metadata": {},
     "output_type": "display_data"
    }
   ],
   "source": [
    "train_loss_count\n",
    "plt.figure('Loss')\n",
    "plt.plot(train_loss_count,label='train_loss')\n",
    "plt.legend()\n",
    "plt.show()"
   ]
  },
  {
   "cell_type": "code",
   "execution_count": 131,
   "id": "acf81efa",
   "metadata": {},
   "outputs": [
    {
     "data": {
      "image/png": "[encoded data removed]",
      "text/plain": [
       "<Figure size 640x480 with 1 Axes>"
      ]
     },
     "metadata": {},
     "output_type": "display_data"
    }
   ],
   "source": [
    "plt.figure('PyTorch_CNN_Loss')\n",
    "plt.plot(train_acc_count,label='train_accuracy')\n",
    "plt.plot(test_acc_count,label='test_accuracy')\n",
    "plt.legend()\n",
    "plt.show()"
   ]
  },
  {
   "cell_type": "code",
   "execution_count": 35,
   "id": "e51595d0",
   "metadata": {},
   "outputs": [
    {
     "name": "stdout",
     "output_type": "stream",
     "text": [
      "0.32507440476190474\n"
     ]
    }
   ],
   "source": [
    "test_mean = np.mean(test_acc_count[20:])\n",
    "print(test_mean)"
   ]
  }
 ],
 "metadata": {
  "kernelspec": {
   "display_name": "Python 3.9.13 ('pytorch')",
   "language": "python",
   "name": "python3"
  },
  "language_info": {
   "codemirror_mode": {
    "name": "ipython",
    "version": 3
   },
   "file_extension": ".py",
   "mimetype": "text/x-python",
   "name": "python",
   "nbconvert_exporter": "python",
   "pygments_lexer": "ipython3",
   "version": "3.9.13"
  },
  "vscode": {
   "interpreter": {
    "hash": "98f3b61fcfe36347e4c5c0cc2e916c48fb5eafd0e6003269457f04ec63a3097a"
   }
  }
 },
 "nbformat": 4,
 "nbformat_minor": 5
}
